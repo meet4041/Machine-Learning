{
 "cells": [
  {
   "cell_type": "code",
   "execution_count": 2,
   "metadata": {
    "id": "5AG8ord4Kjzb"
   },
   "outputs": [],
   "source": [
    "import sklearn"
   ]
  },
  {
   "cell_type": "code",
   "execution_count": 3,
   "metadata": {
    "id": "PaOtAyxBKtjX"
   },
   "outputs": [],
   "source": [
    "from sklearn.datasets import load_iris"
   ]
  },
  {
   "cell_type": "code",
   "execution_count": 4,
   "metadata": {
    "colab": {
     "base_uri": "https://localhost:8080/"
    },
    "id": "8S3yZxD2KwDY",
    "outputId": "73c4c598-75af-4313-9dc0-825ed7c2436e"
   },
   "outputs": [],
   "source": [
    "iris = load_iris()\n",
    "iris\n",
    "x = iris.data\n",
    "col_names = iris.feature_names\n",
    "t_names = iris.target_names"
   ]
  },
  {
   "cell_type": "code",
   "execution_count": 5,
   "metadata": {},
   "outputs": [
    {
     "name": "stdout",
     "output_type": "stream",
     "text": [
      "Column Names ['sepal length (cm)', 'sepal width (cm)', 'petal length (cm)', 'petal width (cm)']\n"
     ]
    }
   ],
   "source": [
    "print(\"Column Names\",col_names)"
   ]
  },
  {
   "cell_type": "code",
   "execution_count": 6,
   "metadata": {},
   "outputs": [
    {
     "name": "stdout",
     "output_type": "stream",
     "text": [
      "Targeted Names ['setosa' 'versicolor' 'virginica']\n"
     ]
    }
   ],
   "source": [
    "print(\"Targeted Names\",t_names)"
   ]
  },
  {
   "cell_type": "code",
   "execution_count": 7,
   "metadata": {},
   "outputs": [
    {
     "data": {
      "text/plain": [
       "array([[5.1, 3.5, 1.4, 0.2],\n",
       "       [4.9, 3. , 1.4, 0.2],\n",
       "       [4.7, 3.2, 1.3, 0.2],\n",
       "       [4.6, 3.1, 1.5, 0.2],\n",
       "       [5. , 3.6, 1.4, 0.2],\n",
       "       [5.4, 3.9, 1.7, 0.4],\n",
       "       [4.6, 3.4, 1.4, 0.3],\n",
       "       [5. , 3.4, 1.5, 0.2],\n",
       "       [4.4, 2.9, 1.4, 0.2],\n",
       "       [4.9, 3.1, 1.5, 0.1]])"
      ]
     },
     "execution_count": 7,
     "metadata": {},
     "output_type": "execute_result"
    }
   ],
   "source": [
    "# First 10 rows\n",
    "\n",
    "x[:10]"
   ]
  },
  {
   "cell_type": "code",
   "execution_count": 8,
   "metadata": {},
   "outputs": [],
   "source": [
    "# Linear Regression\n",
    "\n",
    "import pandas as pd\n",
    "df = pd.DataFrame(data = iris.data, columns = col_names)"
   ]
  },
  {
   "cell_type": "code",
   "execution_count": 9,
   "metadata": {},
   "outputs": [
    {
     "data": {
      "text/html": [
       "<div>\n",
       "<style scoped>\n",
       "    .dataframe tbody tr th:only-of-type {\n",
       "        vertical-align: middle;\n",
       "    }\n",
       "\n",
       "    .dataframe tbody tr th {\n",
       "        vertical-align: top;\n",
       "    }\n",
       "\n",
       "    .dataframe thead th {\n",
       "        text-align: right;\n",
       "    }\n",
       "</style>\n",
       "<table border=\"1\" class=\"dataframe\">\n",
       "  <thead>\n",
       "    <tr style=\"text-align: right;\">\n",
       "      <th></th>\n",
       "      <th>sepal length (cm)</th>\n",
       "      <th>sepal width (cm)</th>\n",
       "      <th>petal length (cm)</th>\n",
       "      <th>petal width (cm)</th>\n",
       "    </tr>\n",
       "  </thead>\n",
       "  <tbody>\n",
       "    <tr>\n",
       "      <th>0</th>\n",
       "      <td>5.1</td>\n",
       "      <td>3.5</td>\n",
       "      <td>1.4</td>\n",
       "      <td>0.2</td>\n",
       "    </tr>\n",
       "    <tr>\n",
       "      <th>1</th>\n",
       "      <td>4.9</td>\n",
       "      <td>3.0</td>\n",
       "      <td>1.4</td>\n",
       "      <td>0.2</td>\n",
       "    </tr>\n",
       "    <tr>\n",
       "      <th>2</th>\n",
       "      <td>4.7</td>\n",
       "      <td>3.2</td>\n",
       "      <td>1.3</td>\n",
       "      <td>0.2</td>\n",
       "    </tr>\n",
       "    <tr>\n",
       "      <th>3</th>\n",
       "      <td>4.6</td>\n",
       "      <td>3.1</td>\n",
       "      <td>1.5</td>\n",
       "      <td>0.2</td>\n",
       "    </tr>\n",
       "    <tr>\n",
       "      <th>4</th>\n",
       "      <td>5.0</td>\n",
       "      <td>3.6</td>\n",
       "      <td>1.4</td>\n",
       "      <td>0.2</td>\n",
       "    </tr>\n",
       "  </tbody>\n",
       "</table>\n",
       "</div>"
      ],
      "text/plain": [
       "   sepal length (cm)  sepal width (cm)  petal length (cm)  petal width (cm)\n",
       "0                5.1               3.5                1.4               0.2\n",
       "1                4.9               3.0                1.4               0.2\n",
       "2                4.7               3.2                1.3               0.2\n",
       "3                4.6               3.1                1.5               0.2\n",
       "4                5.0               3.6                1.4               0.2"
      ]
     },
     "execution_count": 9,
     "metadata": {},
     "output_type": "execute_result"
    }
   ],
   "source": [
    "# EDA\n",
    "\n",
    "df.head()"
   ]
  },
  {
   "cell_type": "code",
   "execution_count": 10,
   "metadata": {},
   "outputs": [
    {
     "data": {
      "text/plain": [
       "(150, 4)"
      ]
     },
     "execution_count": 10,
     "metadata": {},
     "output_type": "execute_result"
    }
   ],
   "source": [
    "df.shape"
   ]
  },
  {
   "cell_type": "code",
   "execution_count": 11,
   "metadata": {},
   "outputs": [
    {
     "name": "stdout",
     "output_type": "stream",
     "text": [
      "correlation                     sepal length (cm)  sepal width (cm)  petal length (cm)  \\\n",
      "sepal length (cm)           1.000000         -0.117570           0.871754   \n",
      "sepal width (cm)           -0.117570          1.000000          -0.428440   \n",
      "petal length (cm)           0.871754         -0.428440           1.000000   \n",
      "petal width (cm)            0.817941         -0.366126           0.962865   \n",
      "\n",
      "                   petal width (cm)  \n",
      "sepal length (cm)          0.817941  \n",
      "sepal width (cm)          -0.366126  \n",
      "petal length (cm)          0.962865  \n",
      "petal width (cm)           1.000000  \n"
     ]
    }
   ],
   "source": [
    "print(\"correlation \",df.corr())"
   ]
  },
  {
   "cell_type": "code",
   "execution_count": 12,
   "metadata": {},
   "outputs": [
    {
     "name": "stdout",
     "output_type": "stream",
     "text": [
      "       sepal length (cm)  sepal width (cm)  petal length (cm)  \\\n",
      "count         150.000000        150.000000         150.000000   \n",
      "mean            5.843333          3.057333           3.758000   \n",
      "std             0.828066          0.435866           1.765298   \n",
      "min             4.300000          2.000000           1.000000   \n",
      "25%             5.100000          2.800000           1.600000   \n",
      "50%             5.800000          3.000000           4.350000   \n",
      "75%             6.400000          3.300000           5.100000   \n",
      "max             7.900000          4.400000           6.900000   \n",
      "\n",
      "       petal width (cm)  \n",
      "count        150.000000  \n",
      "mean           1.199333  \n",
      "std            0.762238  \n",
      "min            0.100000  \n",
      "25%            0.300000  \n",
      "50%            1.300000  \n",
      "75%            1.800000  \n",
      "max            2.500000  \n"
     ]
    }
   ],
   "source": [
    "print(df.describe())"
   ]
  },
  {
   "cell_type": "code",
   "execution_count": 13,
   "metadata": {},
   "outputs": [
    {
     "data": {
      "text/plain": [
       "<Axes: title={'center': 'ScatterPlot'}, xlabel='petal width (cm)', ylabel='petal length (cm)'>"
      ]
     },
     "execution_count": 13,
     "metadata": {},
     "output_type": "execute_result"
    },
    {
     "data": {
      "image/png": "[encoded data removed]",
      "text/plain": [
       "<Figure size 640x480 with 1 Axes>"
      ]
     },
     "metadata": {},
     "output_type": "display_data"
    }
   ],
   "source": [
    "df.plot.scatter(x='petal width (cm)', y='petal length (cm)', title='ScatterPlot')"
   ]
  },
  {
   "cell_type": "code",
   "execution_count": 14,
   "metadata": {},
   "outputs": [],
   "source": [
    "# Pre Processing\n",
    "\n",
    "x = df['petal width (cm)'].values.reshape(-1,1)\n",
    "y = df['petal length (cm)'].values.reshape(-1,1) "
   ]
  },
  {
   "cell_type": "code",
   "execution_count": 15,
   "metadata": {},
   "outputs": [
    {
     "name": "stdout",
     "output_type": "stream",
     "text": [
      "[[1.6]\n",
      " [1.1]\n",
      " [1.6]\n",
      " [0.3]\n",
      " [0.2]\n",
      " [1.2]\n",
      " [1.4]\n",
      " [1.5]\n",
      " [0.2]\n",
      " [0.4]\n",
      " [1.5]\n",
      " [2.3]\n",
      " [0.2]\n",
      " [2. ]\n",
      " [1.9]\n",
      " [1. ]\n",
      " [2. ]\n",
      " [0.4]\n",
      " [1.1]\n",
      " [0.2]\n",
      " [0.2]\n",
      " [1.4]\n",
      " [0.2]\n",
      " [1.8]\n",
      " [1.3]\n",
      " [1.8]\n",
      " [0.2]\n",
      " [2.4]\n",
      " [0.1]\n",
      " [1.3]\n",
      " [1.7]\n",
      " [0.2]\n",
      " [1.1]\n",
      " [2.5]\n",
      " [2.3]\n",
      " [1.3]\n",
      " [0.2]\n",
      " [0.2]\n",
      " [1. ]\n",
      " [2.1]\n",
      " [1.2]\n",
      " [0.2]\n",
      " [0.3]\n",
      " [1. ]\n",
      " [1.4]\n",
      " [1.5]\n",
      " [0.2]\n",
      " [1.5]\n",
      " [1.3]\n",
      " [1.8]\n",
      " [2.1]\n",
      " [1.3]\n",
      " [1.5]\n",
      " [2.1]\n",
      " [0.2]\n",
      " [1.9]\n",
      " [1. ]\n",
      " [2.2]\n",
      " [0.2]\n",
      " [1.3]\n",
      " [0.3]\n",
      " [0.4]\n",
      " [1.4]\n",
      " [1.5]\n",
      " [0.6]\n",
      " [0.2]\n",
      " [1.3]\n",
      " [0.2]\n",
      " [0.1]\n",
      " [1.9]\n",
      " [1.8]\n",
      " [0.2]\n",
      " [1.3]\n",
      " [2.3]\n",
      " [0.4]\n",
      " [2.3]\n",
      " [2. ]\n",
      " [1.5]\n",
      " [2.5]\n",
      " [1.5]\n",
      " [2.1]\n",
      " [1. ]\n",
      " [0.3]\n",
      " [1.3]\n",
      " [0.2]\n",
      " [2.1]\n",
      " [1.8]\n",
      " [1.4]\n",
      " [1.3]\n",
      " [2.3]\n",
      " [1. ]\n",
      " [0.1]\n",
      " [1.4]\n",
      " [0.1]\n",
      " [0.2]\n",
      " [0.2]\n",
      " [1.2]\n",
      " [0.5]\n",
      " [2.5]\n",
      " [1.8]\n",
      " [1.2]\n",
      " [1. ]\n",
      " [0.2]\n",
      " [1.8]\n",
      " [0.3]\n",
      " [0.2]\n",
      " [1.5]\n",
      " [1.8]\n",
      " [1.6]\n",
      " [2.1]\n",
      " [2. ]\n",
      " [2.4]\n",
      " [0.2]\n",
      " [1.7]\n",
      " [0.3]\n",
      " [2.4]\n",
      " [1.5]\n",
      " [0.4]\n",
      " [1.6]\n",
      " [1.8]]\n",
      "[[5.1]\n",
      " [3.8]\n",
      " [4.7]\n",
      " [1.3]\n",
      " [1.6]\n",
      " [4.4]\n",
      " [4.4]\n",
      " [5.1]\n",
      " [1.4]\n",
      " [1.9]\n",
      " [4.9]\n",
      " [5.1]\n",
      " [1.2]\n",
      " [5.1]\n",
      " [5. ]\n",
      " [3.5]\n",
      " [5. ]\n",
      " [1.7]\n",
      " [3. ]\n",
      " [1.2]\n",
      " [1. ]\n",
      " [4.8]\n",
      " [1.5]\n",
      " [4.8]\n",
      " [4. ]\n",
      " [4.9]\n",
      " [1.6]\n",
      " [5.6]\n",
      " [1.4]\n",
      " [4.5]\n",
      " [5. ]\n",
      " [1.9]\n",
      " [3.9]\n",
      " [5.7]\n",
      " [6.9]\n",
      " [4.4]\n",
      " [1.4]\n",
      " [1.4]\n",
      " [3.5]\n",
      " [5.7]\n",
      " [3.9]\n",
      " [1.4]\n",
      " [1.7]\n",
      " [3.3]\n",
      " [4.6]\n",
      " [4.9]\n",
      " [1.5]\n",
      " [4.6]\n",
      " [4.2]\n",
      " [5.5]\n",
      " [5.6]\n",
      " [4.3]\n",
      " [4.5]\n",
      " [6.6]\n",
      " [1.4]\n",
      " [5.1]\n",
      " [4. ]\n",
      " [5.8]\n",
      " [1.7]\n",
      " [3.6]\n",
      " [1.4]\n",
      " [1.3]\n",
      " [3.9]\n",
      " [4.7]\n",
      " [1.6]\n",
      " [1.6]\n",
      " [4.6]\n",
      " [1.5]\n",
      " [1.5]\n",
      " [6.1]\n",
      " [4.8]\n",
      " [1.5]\n",
      " [4. ]\n",
      " [5.9]\n",
      " [1.5]\n",
      " [5.2]\n",
      " [6.4]\n",
      " [4.2]\n",
      " [6.1]\n",
      " [4.5]\n",
      " [5.4]\n",
      " [4.1]\n",
      " [1.5]\n",
      " [4.1]\n",
      " [1.6]\n",
      " [5.9]\n",
      " [5.6]\n",
      " [4.4]\n",
      " [4.2]\n",
      " [5.3]\n",
      " [3.3]\n",
      " [1.5]\n",
      " [5.6]\n",
      " [1.4]\n",
      " [1.3]\n",
      " [1.6]\n",
      " [4. ]\n",
      " [1.7]\n",
      " [6. ]\n",
      " [5.8]\n",
      " [4.2]\n",
      " [3.7]\n",
      " [1.3]\n",
      " [6. ]\n",
      " [1.4]\n",
      " [1.3]\n",
      " [5. ]\n",
      " [6.3]\n",
      " [4.5]\n",
      " [5.5]\n",
      " [5.2]\n",
      " [5.1]\n",
      " [1.3]\n",
      " [4.5]\n",
      " [1.4]\n",
      " [5.6]\n",
      " [4.5]\n",
      " [1.5]\n",
      " [5.8]\n",
      " [4.9]]\n"
     ]
    }
   ],
   "source": [
    "from sklearn.model_selection import train_test_split\n",
    "X_train, X_test, y_train, y_test = train_test_split(x,y, test_size=0.2)\n",
    "print(X_train)\n",
    "print(y_train)"
   ]
  },
  {
   "cell_type": "code",
   "execution_count": 16,
   "metadata": {},
   "outputs": [
    {
     "name": "stdout",
     "output_type": "stream",
     "text": [
      "Intercept: [1.10475815]\n",
      "Coeffecient: [[2.21343436]]\n"
     ]
    }
   ],
   "source": [
    "#TRAIN THEMODEL\n",
    "\n",
    "from sklearn.linear_model import LinearRegression\n",
    "regressor = LinearRegression()\n",
    "regressor.fit(X_train,y_train)\n",
    "print(\"Intercept:\",regressor.intercept_)\n",
    "print(\"Coeffecient:\",regressor.coef_)"
   ]
  },
  {
   "cell_type": "code",
   "execution_count": 17,
   "metadata": {},
   "outputs": [
    {
     "name": "stdout",
     "output_type": "stream",
     "text": [
      "[[1.54744502]]\n"
     ]
    }
   ],
   "source": [
    "#Predictions\n",
    "\n",
    "score = regressor.predict([[0.2]])\n",
    "print(score)"
   ]
  },
  {
   "cell_type": "code",
   "execution_count": 18,
   "metadata": {},
   "outputs": [],
   "source": [
    "def calc(slope,intercept,value):\n",
    "    return slope*value + intercept"
   ]
  },
  {
   "cell_type": "code",
   "execution_count": 19,
   "metadata": {},
   "outputs": [
    {
     "name": "stdout",
     "output_type": "stream",
     "text": [
      "[[1.54744502]]\n"
     ]
    }
   ],
   "source": [
    "score = calc(regressor.coef_,regressor.intercept_,0.2)\n",
    "print(score)"
   ]
  },
  {
   "cell_type": "code",
   "execution_count": 20,
   "metadata": {},
   "outputs": [
    {
     "name": "stdout",
     "output_type": "stream",
     "text": [
      "    Actual value  Predicted\n",
      "0            4.9   5.531627\n",
      "1            1.5   1.547445\n",
      "2            5.4   6.195657\n",
      "3            1.4   1.547445\n",
      "4            4.5   4.424910\n",
      "5            4.5   4.424910\n",
      "6            1.5   1.547445\n",
      "7            1.3   1.768788\n",
      "8            6.7   5.531627\n",
      "9            4.1   3.982223\n",
      "10           5.1   5.310283\n",
      "11           1.5   1.547445\n",
      "12           5.5   5.088940\n",
      "13           4.0   3.982223\n",
      "14           1.1   1.326102\n",
      "15           1.6   1.990132\n",
      "16           5.1   5.088940\n",
      "17           4.7   4.203566\n",
      "18           5.6   5.974314\n",
      "19           4.7   4.203566\n",
      "20           5.3   5.310283\n",
      "21           5.7   6.195657\n",
      "22           4.8   5.088940\n",
      "23           6.7   5.974314\n",
      "24           1.4   1.547445\n",
      "25           4.7   3.760879\n",
      "26           1.5   1.990132\n",
      "27           4.3   3.982223\n",
      "28           1.4   1.547445\n",
      "29           6.1   6.195657\n"
     ]
    }
   ],
   "source": [
    "y_pred = regressor.predict(X_test)\n",
    "df_pred = pd.DataFrame({'Actual value':y_test.squeeze(), 'Predicted':y_pred.squeeze()})\n",
    "print(df_pred)"
   ]
  },
  {
   "cell_type": "code",
   "execution_count": 21,
   "metadata": {},
   "outputs": [
    {
     "name": "stdout",
     "output_type": "stream",
     "text": [
      "0.3304640872283763\n",
      "0.19507191423205086\n",
      "0.4416694626437862\n"
     ]
    }
   ],
   "source": [
    "# Evaluating the model\n",
    "\n",
    "from sklearn.metrics import mean_absolute_error, mean_squared_error\n",
    "import numpy as np\n",
    "mae = mean_absolute_error(y_test,y_pred)\n",
    "mse = mean_squared_error(y_test,y_pred)\n",
    "rmse = np.sqrt(mse)\n",
    "print(mae)\n",
    "print(mse)\n",
    "print(rmse)"
   ]
  }
 ],
 "metadata": {
  "colab": {
   "provenance": []
  },
  "kernelspec": {
   "display_name": "Python 3 (ipykernel)",
   "language": "python",
   "name": "python3"
  },
  "language_info": {
   "codemirror_mode": {
    "name": "ipython",
    "version": 3
   },
   "file_extension": ".py",
   "mimetype": "text/x-python",
   "name": "python",
   "nbconvert_exporter": "python",
   "pygments_lexer": "ipython3",
   "version": "3.12.4"
  }
 },
 "nbformat": 4,
 "nbformat_minor": 4
}
