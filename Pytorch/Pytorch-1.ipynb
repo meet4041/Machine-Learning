{
 "cells": [
  {
   "cell_type": "code",
   "execution_count": 6,
   "id": "17986b72-e907-4249-b109-6fcd91797250",
   "metadata": {},
   "outputs": [
    {
     "name": "stdout",
     "output_type": "stream",
     "text": [
      "2.7.0\n"
     ]
    }
   ],
   "source": [
    "import torch\n",
    "print(torch.__version__)"
   ]
  },
  {
   "cell_type": "code",
   "execution_count": 16,
   "id": "72e110e1-3b2b-4e57-88ad-1e599ef2c93c",
   "metadata": {},
   "outputs": [
    {
     "name": "stdout",
     "output_type": "stream",
     "text": [
      "GPU not available. Using CPU\n"
     ]
    }
   ],
   "source": [
    "if torch.cuda.is_available():\n",
    "    print(\"GPU is aviailable\")\n",
    "    print(f\"Using GPU: {tourch.cuda.get_device_name(0)}\")\n",
    "else:\n",
    "    print(\"GPU not available. Using CPU\")"
   ]
  },
  {
   "cell_type": "code",
   "execution_count": 34,
   "id": "b0216aae-3beb-42b7-aa17-2635601dcc20",
   "metadata": {},
   "outputs": [
    {
     "data": {
      "text/plain": [
       "tensor([[0., 0., 0., 0., 0.],\n",
       "        [0., 0., 0., 0., 0.]])"
      ]
     },
     "execution_count": 34,
     "metadata": {},
     "output_type": "execute_result"
    }
   ],
   "source": [
    "# Creating a Tensor\n",
    "\n",
    "#using empty\n",
    "a = torch.empty(2,5)\n",
    "a"
   ]
  },
  {
   "cell_type": "code",
   "execution_count": 26,
   "id": "eac1e5ab-9c46-40c0-a4f9-e310e5ed4d1c",
   "metadata": {},
   "outputs": [
    {
     "data": {
      "text/plain": [
       "torch.Tensor"
      ]
     },
     "execution_count": 26,
     "metadata": {},
     "output_type": "execute_result"
    }
   ],
   "source": [
    "#check type\n",
    "type(a)"
   ]
  },
  {
   "cell_type": "code",
   "execution_count": 28,
   "id": "03bcdfdd-0cf0-4fe0-a6a8-1e4b7e650149",
   "metadata": {},
   "outputs": [
    {
     "data": {
      "text/plain": [
       "tensor([[0., 0., 0., 0., 0.],\n",
       "        [0., 0., 0., 0., 0.]])"
      ]
     },
     "execution_count": 28,
     "metadata": {},
     "output_type": "execute_result"
    }
   ],
   "source": [
    "#using zeros\n",
    "torch.zeros(2,5)"
   ]
  },
  {
   "cell_type": "code",
   "execution_count": 30,
   "id": "2381274b-9b62-49c8-be2c-2d93e1e37e7a",
   "metadata": {},
   "outputs": [
    {
     "data": {
      "text/plain": [
       "tensor([[1., 1., 1., 1., 1.],\n",
       "        [1., 1., 1., 1., 1.]])"
      ]
     },
     "execution_count": 30,
     "metadata": {},
     "output_type": "execute_result"
    }
   ],
   "source": [
    "#using ones\n",
    "torch.ones(2,5)"
   ]
  },
  {
   "cell_type": "code",
   "execution_count": 40,
   "id": "09a7c5a4-f6b7-4583-ace4-31f3413f5b3f",
   "metadata": {},
   "outputs": [
    {
     "data": {
      "text/plain": [
       "tensor([[0.0398, 0.7824, 0.5581, 0.5087, 0.9853],\n",
       "        [0.6379, 0.0082, 0.5777, 0.4265, 0.0506]])"
      ]
     },
     "execution_count": 40,
     "metadata": {},
     "output_type": "execute_result"
    }
   ],
   "source": [
    "#using rand\n",
    "torch.rand(2,5)"
   ]
  },
  {
   "cell_type": "code",
   "execution_count": 48,
   "id": "7dd2931c-d886-4001-ad50-e4d81d5e7c2d",
   "metadata": {},
   "outputs": [
    {
     "data": {
      "text/plain": [
       "tensor([[0.1117, 0.8158, 0.2626, 0.4839, 0.6765],\n",
       "        [0.7539, 0.2627, 0.0428, 0.2080, 0.1180]])"
      ]
     },
     "execution_count": 48,
     "metadata": {},
     "output_type": "execute_result"
    }
   ],
   "source": [
    "#using manual_seed \n",
    "torch.manual_seed(100)\n",
    "torch.rand(2,5)"
   ]
  },
  {
   "cell_type": "code",
   "execution_count": 52,
   "id": "0fa8f2c2-9d81-42a4-8fc2-b9884526eafa",
   "metadata": {},
   "outputs": [
    {
     "data": {
      "text/plain": [
       "tensor([[1, 2, 3],\n",
       "        [4, 5, 6]])"
      ]
     },
     "execution_count": 52,
     "metadata": {},
     "output_type": "execute_result"
    }
   ],
   "source": [
    "#using tensor \n",
    "torch.tensor([[1,2,3],[4,5,6]])"
   ]
  },
  {
   "cell_type": "code",
   "execution_count": 58,
   "id": "43a8fd6c-f12c-4cc0-a1cf-c1f1cbc9617f",
   "metadata": {},
   "outputs": [
    {
     "data": {
      "text/plain": [
       "tensor([0, 2, 4, 6, 8])"
      ]
     },
     "execution_count": 58,
     "metadata": {},
     "output_type": "execute_result"
    }
   ],
   "source": [
    "#using arange\n",
    "torch.arange(0,10)\n",
    "torch.arange(0,10,2)"
   ]
  },
  {
   "cell_type": "code",
   "execution_count": 62,
   "id": "821d937a-3878-4c0e-b543-e7629591c1e3",
   "metadata": {},
   "outputs": [
    {
     "data": {
      "text/plain": [
       "tensor([ 0.,  5., 10.])"
      ]
     },
     "execution_count": 62,
     "metadata": {},
     "output_type": "execute_result"
    }
   ],
   "source": [
    "#using linspace\n",
    "torch.linspace(0,10,3)"
   ]
  },
  {
   "cell_type": "code",
   "execution_count": 66,
   "id": "c2910b56-afda-4389-9db7-51c1f9370437",
   "metadata": {},
   "outputs": [
    {
     "data": {
      "text/plain": [
       "tensor([[1., 0., 0., 0., 0.],\n",
       "        [0., 1., 0., 0., 0.],\n",
       "        [0., 0., 1., 0., 0.],\n",
       "        [0., 0., 0., 1., 0.],\n",
       "        [0., 0., 0., 0., 1.]])"
      ]
     },
     "execution_count": 66,
     "metadata": {},
     "output_type": "execute_result"
    }
   ],
   "source": [
    "#using eye\n",
    "torch.eye(5,5)"
   ]
  },
  {
   "cell_type": "code",
   "execution_count": 72,
   "id": "c3f8e46b-a449-4fb5-89d6-ee49b6aa7abd",
   "metadata": {},
   "outputs": [
    {
     "data": {
      "text/plain": [
       "tensor([[1, 1, 1, 1, 1],\n",
       "        [1, 1, 1, 1, 1],\n",
       "        [1, 1, 1, 1, 1],\n",
       "        [1, 1, 1, 1, 1],\n",
       "        [1, 1, 1, 1, 1]])"
      ]
     },
     "execution_count": 72,
     "metadata": {},
     "output_type": "execute_result"
    }
   ],
   "source": [
    "#using full\n",
    "torch.full((5,5),1)"
   ]
  },
  {
   "cell_type": "code",
   "execution_count": 90,
   "id": "39fc8873-d06e-4d57-9fe9-d2771f1ed8a6",
   "metadata": {},
   "outputs": [
    {
     "name": "stdout",
     "output_type": "stream",
     "text": [
      "tensor([[1, 2],\n",
      "        [3, 4],\n",
      "        [5, 6]])\n",
      "Shape: torch.Size([3, 2])\n"
     ]
    }
   ],
   "source": [
    "# find out shape\n",
    "x = torch.tensor([[1,2],[3,4],[5,6]])\n",
    "print(x)\n",
    "print(\"Shape:\",x.shape)"
   ]
  },
  {
   "cell_type": "code",
   "execution_count": 92,
   "id": "a71da52f-c083-4760-ad43-38ca427a0469",
   "metadata": {},
   "outputs": [
    {
     "data": {
      "text/plain": [
       "tensor([[0, 0],\n",
       "        [0, 0],\n",
       "        [0, 0]])"
      ]
     },
     "execution_count": 92,
     "metadata": {},
     "output_type": "execute_result"
    }
   ],
   "source": [
    "torch.empty_like(x)"
   ]
  },
  {
   "cell_type": "code",
   "execution_count": 100,
   "id": "f23da3e2-939f-46bf-95d9-c3fe5a07c86d",
   "metadata": {},
   "outputs": [
    {
     "data": {
      "text/plain": [
       "tensor([[0, 0],\n",
       "        [0, 0],\n",
       "        [0, 0]])"
      ]
     },
     "execution_count": 100,
     "metadata": {},
     "output_type": "execute_result"
    }
   ],
   "source": [
    "torch.zeros_like(x)"
   ]
  },
  {
   "cell_type": "code",
   "execution_count": 102,
   "id": "05271d15-0778-4cac-b2d2-8000675b5055",
   "metadata": {},
   "outputs": [
    {
     "data": {
      "text/plain": [
       "tensor([[1, 1],\n",
       "        [1, 1],\n",
       "        [1, 1]])"
      ]
     },
     "execution_count": 102,
     "metadata": {},
     "output_type": "execute_result"
    }
   ],
   "source": [
    "torch.ones_like(x)"
   ]
  },
  {
   "cell_type": "code",
   "execution_count": 112,
   "id": "6be9cda0-5480-48a9-8063-d513152d160b",
   "metadata": {},
   "outputs": [
    {
     "data": {
      "text/plain": [
       "tensor([[0.9969, 0.7565],\n",
       "        [0.2239, 0.3023],\n",
       "        [0.1784, 0.8238]])"
      ]
     },
     "execution_count": 112,
     "metadata": {},
     "output_type": "execute_result"
    }
   ],
   "source": [
    "torch.rand_like(x,dtype=torch.float)"
   ]
  },
  {
   "cell_type": "code",
   "execution_count": 2,
   "id": "3faee025-1ea6-4c24-9887-680d999f6b17",
   "metadata": {},
   "outputs": [],
   "source": [
    "# Mathematical Operations"
   ]
  },
  {
   "cell_type": "code",
   "execution_count": 10,
   "id": "a861678a-221f-40cc-860e-3865e49b7383",
   "metadata": {},
   "outputs": [
    {
     "data": {
      "text/plain": [
       "tensor([[0.0196, 0.6634],\n",
       "        [0.9844, 0.1838]])"
      ]
     },
     "execution_count": 10,
     "metadata": {},
     "output_type": "execute_result"
    }
   ],
   "source": [
    "x = torch.rand(2,2)\n",
    "x"
   ]
  },
  {
   "cell_type": "code",
   "execution_count": 52,
   "id": "6e369edc-c157-48c3-8c8e-64c1b873c041",
   "metadata": {},
   "outputs": [
    {
     "data": {
      "text/plain": [
       "tensor([[3.8598e-04, 4.4011e-01],\n",
       "        [9.6907e-01, 3.3788e-02]])"
      ]
     },
     "execution_count": 52,
     "metadata": {},
     "output_type": "execute_result"
    }
   ],
   "source": [
    "x + 2\n",
    "x - 2\n",
    "x * 2\n",
    "(x * 100) // 3\n",
    "((x * 100) // 3) % 2\n",
    "x ** 2"
   ]
  },
  {
   "cell_type": "code",
   "execution_count": 80,
   "id": "238c96a1-085d-4a46-ae07-6aacc30ac958",
   "metadata": {},
   "outputs": [
    {
     "name": "stdout",
     "output_type": "stream",
     "text": [
      "tensor([1.0000, 2.0000, 4.5700, 4.3220])\n",
      "tensor([-1.0000,  2.0000,  4.5700, -4.3220])\n",
      "tensor([ 1., -2., -5.,  4.])\n",
      "tensor([ 1., -2., -4.,  5.])\n",
      "tensor([ 1., -2., -5.,  4.])\n",
      "tensor([ 1., -1., -1.,  1.])\n"
     ]
    }
   ],
   "source": [
    "#abs\n",
    "\n",
    "c = torch.tensor([1,-2,-4.57,4.322])\n",
    "print(torch.abs(c))\n",
    "print(torch.neg(c))\n",
    "print(torch.round(c))\n",
    "print(torch.ceil(c))\n",
    "print(torch.floor(c))\n",
    "print(torch.clamp(c,min=-1,max=1))\n"
   ]
  },
  {
   "cell_type": "code",
   "execution_count": 174,
   "id": "c6f035e2-f32d-4cff-ba4f-399f4c7856c4",
   "metadata": {},
   "outputs": [
    {
     "name": "stdout",
     "output_type": "stream",
     "text": [
      "tensor([[8., 8., 9.],\n",
      "        [9., 2., 8.]])\n",
      "Sum: tensor(44.)\n",
      "Col-sum: tensor([17., 10., 17.])\n",
      "Row-sum: tensor([25., 19.])\n",
      "Mean: tensor(7.3333)\n",
      "Col-mean: tensor([8.5000, 5.0000, 8.5000])\n",
      "Row-mean: tensor([8.3333, 6.3333])\n",
      "Median: tensor(8.)\n",
      "Max: tensor(9.)\n",
      "Min: tensor(2.)\n",
      "Product: tensor(82944.)\n",
      "Standard Devation: tensor(2.6583)\n",
      "Variance: tensor(7.0667)\n",
      "Argmax: tensor(2)\n",
      "Argmin: tensor(4)\n"
     ]
    }
   ],
   "source": [
    "x = torch.randint(size=(2,3),low=1, high=10,dtype=torch.float)\n",
    "torch.manual_seed(100)\n",
    "\n",
    "print(x)\n",
    "\n",
    "print(\"Sum:\",torch.sum(x))\n",
    "print(\"Col-sum:\",torch.sum(x,dim=0))\n",
    "print(\"Row-sum:\",torch.sum(x,dim=1))\n",
    "\n",
    "print(\"Mean:\",torch.mean(x))\n",
    "print(\"Col-mean:\",torch.mean(x,dim=0))\n",
    "print(\"Row-mean:\",torch.mean(x,dim=1))\n",
    "\n",
    "print(\"Median:\",torch.median(x))\n",
    "\n",
    "print(\"Max:\",torch.max(x))\n",
    "print(\"Min:\",torch.min(x))\n",
    "\n",
    "print(\"Product:\",torch.prod(x))\n",
    "print(\"Standard Devation:\",torch.std(x))\n",
    "print(\"Variance:\",torch.var(x))\n",
    "\n",
    "print(\"Argmax:\",torch.argmax(x))\n",
    "print(\"Argmin:\",torch.argmin(x))\n"
   ]
  },
  {
   "cell_type": "code",
   "execution_count": 182,
   "id": "83339c97-96ee-44e4-a4bf-219ef28b1cb1",
   "metadata": {},
   "outputs": [
    {
     "name": "stdout",
     "output_type": "stream",
     "text": [
      "tensor([[8, 8, 9],\n",
      "        [9, 2, 8]])\n",
      "tensor([[7, 2],\n",
      "        [7, 3],\n",
      "        [8, 9]])\n"
     ]
    }
   ],
   "source": [
    "f = torch.randint(size=(2,3),low=1,high=10)\n",
    "g = torch.randint(size=(3,2),low=1,high=10)\n",
    "print(f)\n",
    "print(g)"
   ]
  },
  {
   "cell_type": "code",
   "execution_count": 184,
   "id": "202178f6-84fd-426a-98de-33e216dd5250",
   "metadata": {},
   "outputs": [
    {
     "data": {
      "text/plain": [
       "tensor([[184, 121],\n",
       "        [141,  96]])"
      ]
     },
     "execution_count": 184,
     "metadata": {},
     "output_type": "execute_result"
    }
   ],
   "source": [
    "x = torch.matmul(f,g)\n",
    "x"
   ]
  },
  {
   "cell_type": "code",
   "execution_count": 186,
   "id": "99a6dc03-14c9-44ff-83d9-6b06c5a01da8",
   "metadata": {},
   "outputs": [
    {
     "data": {
      "text/plain": [
       "False"
      ]
     },
     "execution_count": 186,
     "metadata": {},
     "output_type": "execute_result"
    }
   ],
   "source": [
    "torch.cuda.is_available()"
   ]
  },
  {
   "cell_type": "code",
   "execution_count": 188,
   "id": "171183a2-5c34-400a-8fff-6671670a5b46",
   "metadata": {},
   "outputs": [],
   "source": [
    "device = torch.device('cuda')"
   ]
  },
  {
   "cell_type": "code",
   "execution_count": null,
   "id": "e621ee4d-4818-4d5c-bb64-fd5473b6c215",
   "metadata": {},
   "outputs": [],
   "source": []
  }
 ],
 "metadata": {
  "kernelspec": {
   "display_name": "Python 3 (ipykernel)",
   "language": "python",
   "name": "python3"
  },
  "language_info": {
   "codemirror_mode": {
    "name": "ipython",
    "version": 3
   },
   "file_extension": ".py",
   "mimetype": "text/x-python",
   "name": "python",
   "nbconvert_exporter": "python",
   "pygments_lexer": "ipython3",
   "version": "3.12.4"
  }
 },
 "nbformat": 4,
 "nbformat_minor": 5
}
